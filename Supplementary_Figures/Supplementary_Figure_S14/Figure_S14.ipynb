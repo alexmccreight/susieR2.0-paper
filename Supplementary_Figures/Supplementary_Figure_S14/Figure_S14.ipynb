{
 "cells": [
  {
   "attachments": {},
   "cell_type": "markdown",
   "id": "24e71e1d-e45e-4ebe-adfb-8ef52d66018e",
   "metadata": {},
   "source": [
    "# Figure S14. Additional details of colocalizations in gene CTSH.\n",
    "\n",
    "See detailed information in Main Figure 6h."
   ]
  },
  {
   "cell_type": "code",
   "execution_count": null,
   "id": "73ffc354-0798-4848-96fc-5d6f29100630",
   "metadata": {},
   "outputs": [],
   "source": []
  }
 ],
 "metadata": {
  "kernelspec": {
   "display_name": "R",
   "language": "R",
   "name": "ir"
  },
  "language_info": {
   "codemirror_mode": "r",
   "file_extension": ".r",
   "mimetype": "text/x-r-source",
   "name": "R",
   "pygments_lexer": "r",
   "version": "4.4.1"
  }
 },
 "nbformat": 4,
 "nbformat_minor": 5
}
