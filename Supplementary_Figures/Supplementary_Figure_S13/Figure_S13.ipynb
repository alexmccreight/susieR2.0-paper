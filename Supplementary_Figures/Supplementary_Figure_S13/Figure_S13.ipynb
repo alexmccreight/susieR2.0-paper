{
 "cells": [
  {
   "attachments": {},
   "cell_type": "markdown",
   "id": "24e71e1d-e45e-4ebe-adfb-8ef52d66018e",
   "metadata": {},
   "source": [
    "# Figure 13. Example cases of xQTL colocalizations in known AD risk genes.\n",
    "\n",
    "- **S13a**. Example of established AD gene BIN1 across multiple molecular contexts \n",
    "- **S13b**. Example of colocalized variants spanning multiple genes CR1, CR2, YOD1. One variant, rs669515 (MaxVCP=0.755), colocalized with CR2 in DLPFC bulk eQTLs, YOD1 in oligodendrocytes, and CR1 across oligodendrocytes and all three additional bulk cortical eQTLs.\n",
    "\n",
    "Detailed results can be found in Supplementary Table S1."
   ]
  },
  {
   "cell_type": "code",
   "execution_count": null,
   "id": "73ffc354-0798-4848-96fc-5d6f29100630",
   "metadata": {},
   "outputs": [],
   "source": []
  }
 ],
 "metadata": {
  "kernelspec": {
   "display_name": "R",
   "language": "R",
   "name": "ir"
  },
  "language_info": {
   "codemirror_mode": "r",
   "file_extension": ".r",
   "mimetype": "text/x-r-source",
   "name": "R",
   "pygments_lexer": "r",
   "version": "4.4.1"
  }
 },
 "nbformat": 4,
 "nbformat_minor": 5
}
