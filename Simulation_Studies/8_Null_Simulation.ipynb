{
 "cells": [
  {
   "cell_type": "markdown",
   "id": "7ed8cd15-0fa5-46a5-9b23-30a9d49094db",
   "metadata": {
    "kernel": "SoS"
   },
   "source": [
    "# Null Simulation"
   ]
  },
  {
   "cell_type": "markdown",
   "id": "ea4b64e7-da20-49e1-9a02-f8c3b699ae49",
   "metadata": {
    "kernel": "SoS",
    "tags": []
   },
   "source": [
    "Following the previous simulation design\n",
    "\n",
    "$\\mathbf{Y}_1 = \\mathbf{X} \\boldsymbol{\\beta}_1 + \\boldsymbol{\\varepsilon}$\n",
    "\n",
    "We assigned $\\boldsymbol{\\beta}= \\boldsymbol{0}$, and varied $Var(\\varepsilon)$ by 0.1, 0.5 and 1.\n",
    "\n",
    "For each region, we simulated 50 traits will all traits being null.\n"
   ]
  },
  {
   "cell_type": "markdown",
   "id": "f6ac3f4e-c746-4884-adb4-44a18a6bc184",
   "metadata": {
    "kernel": "SoS"
   },
   "source": [
    "## Phenotype simulation code"
   ]
  },
  {
   "cell_type": "code",
   "execution_count": null,
   "id": "a07ca992-126e-4c3d-be6d-aa1739d38133",
   "metadata": {
    "kernel": "SoS",
    "tags": []
   },
   "outputs": [],
   "source": [
    "[simulation_null]\n",
    "parameter: genofile = paths\n",
    "# pheno_file: give genotype file (in plink)，we can read the gentype matrix. These files are separated by TADs.\n",
    "parameter: cwd = path(\"output\")\n",
    "parameter: job_size = 30\n",
    "parameter: walltime = \"100h\"\n",
    "parameter: mem = \"30G\"\n",
    "parameter: numThreads = 1\n",
    "parameter: null_sigma = 1\n",
    "parameter: n_trait = 50\n",
    "parameter: container = \"\"\n",
    "\n",
    "input: genofile, group_by = 1\n",
    "output: f'{cwd:a}/{step_name}/sample_{_index}_trait_{n_trait}_null.rds'\n",
    "\n",
    "task: trunk_workers = 1, trunk_size = job_size, walltime = walltime, mem = mem, cores = numThreads, tags = f'{step_name}_{_output[0]:bn}'\n",
    "\n",
    "R: expand = '${ }', stdout = f\"{_output:n}.stdout\", stderr = f\"{_output:n}.stderr\", container = container\n",
    "    # Null simulation: no causal variants, simulate pure noise phenotypes\n",
    "    library(\"MASS\")\n",
    "    library(\"plink2R\")\n",
    "    library(\"dplyr\")\n",
    "    library(\"readr\")\n",
    "    library(\"tidyverse\")\n",
    "  \n",
    "    # install simulation package\n",
    "    # devtools::install_github(\"StatFunGen/simxQTL\", build_vignettes = FALSE)\n",
    "    # BiocManager::install(\"StatFunGen/pecotmr\")\n",
    "    library(\"pecotmr\")\n",
    "    library(\"simxQTL\")\n",
    "\n",
    "    # --- Read genotype ---\n",
    "    simu_file = ${_input:r}\n",
    "    geno <- read_plink(${_input:nr})\n",
    "    gene_name = str_extract(simu_file, \"ENSG[0-9]+\")\n",
    "    gene_tss_map = read_tsv(\"./Data/gene_cis_TADB_mapper.tsv\")\n",
    "\n",
    "    # --- Filter by TSS window (+/- 1.5Mb) ---\n",
    "    TSS_pos = gene_tss_map$TSS[which(gene_tss_map$gene_id == gene_name)][1]\n",
    "    keep_index = which(geno$bim$V4 > (TSS_pos - 1500000) & geno$bim$V4 < (TSS_pos + 1500000))\n",
    "    geno$bed = geno$bed[, keep_index]\n",
    "\n",
    "    # --- SNP filtering ---\n",
    "    imiss = 0.1\n",
    "    maf = 0.05\n",
    "    Xmat = filter_X(geno$bed, imiss, maf)\n",
    "\n",
    "    # --- Set up empty effect size matrix ---\n",
    "    ntrait = ${n_trait}\n",
    "    B = matrix(0, nrow = ncol(Xmat), ncol = ntrait)\n",
    "\n",
    "    # --- Simulate null traits ---\n",
    "    pheno_single = sim_multi_traits(\n",
    "        G = Xmat,\n",
    "        B = B,\n",
    "        h2g = 0.05,\n",
    "        is_h2g_total = TRUE,\n",
    "        null_sigma = ${null_sigma}\n",
    "    )\n",
    "    phenotype = pheno_single$P\n",
    "\n",
    "    # --- Save results ---\n",
    "    data = list()\n",
    "    data[[\"X\"]] = Xmat\n",
    "    data[[\"Y\"]] = phenotype\n",
    "    saveRDS(data, ${_output:r})\n"
   ]
  },
  {
   "cell_type": "markdown",
   "id": "f4f2fb23-3c65-4f01-aac0-3586a90bc390",
   "metadata": {
    "kernel": "SoS"
   },
   "source": [
    "## Bash submission"
   ]
  },
  {
   "cell_type": "code",
   "execution_count": null,
   "id": "448ef8c4-44cd-44c9-94db-6c21e82ae1c8",
   "metadata": {
    "kernel": "SoS"
   },
   "outputs": [],
   "source": [
    "work_dir=\"/home/hs3393/cb_Mar/simulation_data/\"\n",
    "job=\"simulation_null\"\n",
    "mkdir -p ${work_dir}\n",
    "mkdir -p ${work_dir}/code\n",
    "mkdir -p ${work_dir}/log\n",
    "cd ${work_dir}/code\n",
    "\n",
    "# Create the base_script file and write the bash code into it\n",
    "cat << 'EOF' > base_script\n",
    "#!/bin/bash -l\n",
    "# NOTE the -l flag!\n",
    "#\n",
    "#SBATCH -t 30:00:00\n",
    "#SBATCH --mem=30000\n",
    "#SBATCH -J JOB\n",
    "#SBATCH -o WORK_DIR/log/JOB.\"%j\".out\n",
    "#SBATCH -e WORK_DIR/log/JOB.\"%j\".err\n",
    "\n",
    "source ~/mamba_activate.sh\n",
    "module load Singularity\n",
    "\n",
    "\n",
    "sos run ~/colocboost-paper/Simulation_Studies/8_Null_Simulation.ipynb JOB \\\n",
    "    --genofile `ls /home/hs3393/cloud_colocalization/simulation_data/selected_genes_genotype/*.bim` \\\n",
    "    --null_sigma NULL --mem 30G \\\n",
    "    --cwd WORK_DIR/\n",
    "EOF\n",
    "\n",
    "base_script=\"base_script\"\n",
    "# squared = 0.1, 0.5 and 1\n",
    "for null in 0.31 0.71 1; do\n",
    "    output_script=\"null_${null}.sh\"\n",
    "    cat ${base_script}|sed \"s|NULL|${null}|g\" | sed \"s|WORK_DIR|${work_dir}|g\" |sed \"s|JOB|${job}|g\"  > ${output_script}\n",
    "    sbatch ${output_script}\n",
    "done"
   ]
  }
 ],
 "metadata": {
  "kernelspec": {
   "display_name": "SoS",
   "language": "sos",
   "name": "sos"
  },
  "language_info": {
   "codemirror_mode": "sos",
   "file_extension": ".sos",
   "mimetype": "text/x-sos",
   "name": "sos",
   "nbconvert_exporter": "sos_notebook.converter.SoS_Exporter",
   "pygments_lexer": "sos"
  },
  "sos": {
   "kernels": [
    [
     "R",
     "ir",
     "R",
     "",
     "r"
    ],
    [
     "SoS",
     "sos",
     "",
     "",
     "sos"
    ]
   ],
   "version": "0.24.3"
  }
 },
 "nbformat": 4,
 "nbformat_minor": 5
}
