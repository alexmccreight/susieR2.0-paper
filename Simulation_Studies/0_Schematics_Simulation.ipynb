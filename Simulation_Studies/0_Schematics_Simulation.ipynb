{
 "cells": [
  {
   "attachments": {},
   "cell_type": "markdown",
   "id": "f8cd06af-dc27-456a-af67-dafd401d046d",
   "metadata": {},
   "source": [
    "# Simulation Schematics\n",
    "\n",
    "## Overview\n",
    "\n",
    "This notebook provides a comprehensive overview of the simulation framework used to evaluate and benchmark the ColocBoost with competing methods. We present a structured series of simulation designs that test the method's performance under various conditions.\n",
    "\n",
    "## Simulation Framework\n",
    "\n",
    "\n",
    "### Comparison with multi-trait colocalization methods\n",
    "\n",
    "We compared ColocBoost against three established colocalization methods, COLOC (V5), HyPrColoc, and MOLOC, including realistic simulation analyses, simulation designs adopted in competing methods, and simulation with correlated traits, encompassing multiple scenarios varying in the number of causal variants, variant-trait causal configurations, and effect-size heterogeneity (Figure S2a).\n",
    "\n",
    "\n",
    "- **Primary numerical study**: Realistic genomic scenarios that mirror empirical genetic architecture (see more details in notebook [Phenotype Data Simulation](https://statfungen.github.io/colocboost-paper/Simulation_Studies/1_Phenotype_Simulation.html)).\n",
    "- **Secondary simulations**: Benchmark simulations replicating designs from original publications of competing colocalization methods (see more details in notebook [Secondary Simulations](https://statfungen.github.io/colocboost-paper/Simulation_Studies/5_Secondary_Simulation.html)), including i) fully colocalized design and ii) clustered and randomized colocalization design.\n",
    "- **Correlated phenotypes simulations**: Complex trait correlations to evaluate performance with interdependent phenotypes (see more details in notebook [Correlated Phenotypes Simulation](https://statfungen.github.io/colocboost-paper/Simulation_Studies/7_Correlated_Simulation.html)). \n",
    "- **Weaker signal simulations**: Implements simulations specifically designed to mimic real-world GWAS summary statistics (see more details in notebook [Weaker Signal Simulation](https://statfungen.github.io/colocboost-paper/Simulation_Studies/6_GWAS_Simulation.html)). \n",
    "- **Null simulation**:  Tests type I error control and false discovery rates under null scenarios where no colocalization exists (see more details in notebook [Null Simulation](https://statfungen.github.io/colocboost-paper/Simulation_Studies/8_Null_Simulation.html)). \n",
    "\n",
    "These simulations systematically assess key performance metrics including statistical power, false discovery control, computational efficiency, and robustness to various data conditions.\n",
    "\n",
    "### Comparison with OPERA using 'target trait' benchmarks\n",
    "\n",
    "To benchmark ColocBoost with the recently proposed multi-omics colocalization method OPERA in simulation studies, given that OPERA focuses on colocalization with a `target trait' (GWAS) and requiring genome-wide GWAS summary statistics for estimating its hyperparameters, we computed summary statistics for 500 of the 1,287 independent, non-overlapping gene regions previously described, to serve as 500 replicates for power and FDR calculations. In our simulation studies, we considered the following simulation designs:\n",
    "\n",
    "- **Primary numerical study**: Realistic genomic scenarios that mirror empirical genetic architecture (see more details in notebook [Run OPERA](https://statfungen.github.io/colocboost-paper/Simulation_Studies/10_Run_OPERA.html)).\n",
    "- **Secondary simulations**: Benchmark simulations replicating designs from OPERA paper with the original proportion configuration for 3 and 5 exposures (see more details in notebook [Comparison with OPERA](https://statfungen.github.io/colocboost-paper/Simulation_Studies/11_Run_OPERA_Original_Proportion.html)).\n",
    "\n",
    "\n",
    "For comprehensive technical details of simulation parameters, data generation procedures, and evaluation metrics, please refer to Supplementary Note S.6.2 in our manuscript."
   ]
  },
  {
   "cell_type": "markdown",
   "id": "02f759eb-e853-45a4-adde-68b7c3b3b612",
   "metadata": {},
   "source": [
    "![FigureS2a](../Simulation_Studies/FigS2a.png)"
   ]
  },
  {
   "cell_type": "code",
   "execution_count": null,
   "id": "f581418c-05bd-41bd-b39e-fca4ff37d2e3",
   "metadata": {
    "vscode": {
     "languageId": "r"
    }
   },
   "outputs": [],
   "source": []
  }
 ],
 "metadata": {
  "kernelspec": {
   "display_name": "R",
   "language": "R",
   "name": "ir"
  },
  "language_info": {
   "codemirror_mode": "r",
   "file_extension": ".r",
   "mimetype": "text/x-r-source",
   "name": "R",
   "pygments_lexer": "r",
   "version": "4.4.1"
  }
 },
 "nbformat": 4,
 "nbformat_minor": 5
}
