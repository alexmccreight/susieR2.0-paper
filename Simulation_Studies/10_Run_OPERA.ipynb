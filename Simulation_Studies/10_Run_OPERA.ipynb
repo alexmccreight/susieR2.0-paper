{
 "cells": [
  {
   "cell_type": "markdown",
   "id": "b98db52b-4ccc-464e-8356-2b2e193847d8",
   "metadata": {
    "kernel": "R"
   },
   "source": [
    "# Run OPERA"
   ]
  },
  {
   "cell_type": "markdown",
   "id": "e2751b17-d0a6-4139-abbc-803923618a77",
   "metadata": {
    "kernel": "SoS"
   },
   "source": [
    "## Goal\n",
    "\n",
    "After simulating the phenotypes, we will summarize them into summary statistics format, making them compatible with OPERA, and compare with ColocBoost targeted version.\n",
    "\n",
    "## Input \n",
    "\n",
    "Simulated individual level data. "
   ]
  },
  {
   "cell_type": "markdown",
   "id": "c1982921-5a80-49af-a10d-9df8f3f6fdde",
   "metadata": {
    "kernel": "R",
    "tags": []
   },
   "source": [
    "## Step 1: Choose non-overlapping regions from 1,287 regions used in other simulations"
   ]
  },
  {
   "cell_type": "code",
   "execution_count": null,
   "id": "e9d60889-d57c-42b7-af6e-baab78cbca28",
   "metadata": {
    "kernel": "R"
   },
   "outputs": [],
   "source": [
    "# Load necessary libraries\n",
    "library(tidyverse)\n",
    "\n",
    "# Read in selected gene table\n",
    "select_gene = read_tsv(\"./Data//selected_gene_tb.tsv\")\n",
    "\n",
    "# Clean and arrange the gene table:\n",
    "# - Remove \"TADB_\" prefix from TADB_index\n",
    "# - Convert index to numeric\n",
    "# - Sort by index\n",
    "select_gene = select_gene %>% \n",
    "  mutate(index = str_replace(TADB_index, \"TADB_\", \"\")) %>%\n",
    "  mutate(index = as.numeric(index)) %>%\n",
    "  arrange(index)\n",
    "\n",
    "# Initialize vectors to store non-overlapping gene intervals\n",
    "chrom_str = c()\n",
    "start_str = c()\n",
    "end_str = c()\n",
    "gene_str = c()\n",
    "cnt = 1\n",
    "\n",
    "# Iterate through genes to select non-overlapping regions\n",
    "for (i in 1:nrow(select_gene)) {\n",
    "    chrom = select_gene[[\"#chr\"]][i]\n",
    "    start = select_gene[[\"gene_cis_start\"]][i]\n",
    "    end = select_gene[[\"gene_cis_end\"]][i]\n",
    "    gene = select_gene[[\"gene_id\"]][i]\n",
    "    \n",
    "    if (i == 1) {\n",
    "        # Always keep the first gene\n",
    "        chrom_str = c(chrom_str, chrom)\n",
    "        start_str = c(start_str, start)\n",
    "        end_str = c(end_str, end)\n",
    "        gene_str = c(gene_str, gene)\n",
    "        cnt = cnt + 1\n",
    "    } else {\n",
    "        if (chrom != chrom_str[cnt - 1]) {\n",
    "            # If chromosome changes, keep the gene\n",
    "            chrom_str = c(chrom_str, chrom)\n",
    "            start_str = c(start_str, start)\n",
    "            end_str = c(end_str, end)\n",
    "            gene_str = c(gene_str, gene)\n",
    "            cnt = cnt + 1\n",
    "        } else {\n",
    "            if (start > end_str[cnt - 1]) {\n",
    "                # If no overlap with previous region on the same chromosome, keep the gene\n",
    "                chrom_str = c(chrom_str, chrom)\n",
    "                start_str = c(start_str, start)\n",
    "                end_str = c(end_str, end)\n",
    "                gene_str = c(gene_str, gene)\n",
    "                cnt = cnt + 1\n",
    "            } \n",
    "        }\n",
    "    }\n",
    "}\n"
   ]
  },
  {
   "cell_type": "markdown",
   "id": "efcbeb18-7022-41de-b1c6-4a4bed9ebb66",
   "metadata": {
    "kernel": "R"
   },
   "source": [
    "## Step 2: Based on causal variant distribution, mix the result by proportion\n",
    "\n",
    "Save the selected files in another folder."
   ]
  },
  {
   "cell_type": "code",
   "execution_count": 16,
   "id": "0e339f5e-373e-46af-a91a-2d6455a77576",
   "metadata": {
    "kernel": "R",
    "tags": []
   },
   "outputs": [],
   "source": [
    "## Obtained from true colocalization configuration\n",
    "\n",
    "trait_2 = c(2177, 233, 26)\n",
    "trait_2 = trait_2 / sum(trait_2)\n",
    "\n",
    "trait_5 = c(1831, 258, 41, 9 )\n",
    "trait_5 = trait_5 / sum(trait_5)\n",
    "\n",
    "trait_10 = c(3175, 805, 149, 45, 10)\n",
    "trait_10 = trait_10 / sum(trait_10)"
   ]
  },
  {
   "cell_type": "code",
   "execution_count": 46,
   "id": "521e3b93-8d26-40d7-a90d-c57ef8d80a28",
   "metadata": {
    "kernel": "R",
    "tags": []
   },
   "outputs": [],
   "source": [
    "# Mix simulation files based on causal variant number distribution\n",
    "\n",
    "# ------------------------\n",
    "# Part 1: 2 causal variants\n",
    "# ------------------------\n",
    "\n",
    "set.seed(100)  # For reproducibility\n",
    "total_indices <- 500\n",
    "proportions <- trait_2  # Proportions for 2 causal variant groups\n",
    "\n",
    "# Calculate number of samples per group\n",
    "group_sizes <- floor(total_indices * proportions)\n",
    "group_sizes[1] <- group_sizes[1] + (total_indices - sum(group_sizes))  # Correct rounding errors\n",
    "\n",
    "# Assign samples to groups\n",
    "groups <- rep(1:3, times = group_sizes)\n",
    "groups <- sample(groups)  # Shuffle group assignments\n",
    "\n",
    "# Find sample indices for each group\n",
    "partitioned_indices <- lapply(1:3, function(i) which(groups == i) - 1)\n",
    "\n",
    "# Copy files into mixed folders by h2g value\n",
    "for (h2g in c(0.02, 0.03, 0.04, 0.05)) {\n",
    "    path = paste0(\"/home/hs3393/cb_simulation/simulation_data/simulation_opera/real_simulation_2opera/h2g_\", h2g, \"_mix/\")\n",
    "    dir.create(path, showWarnings = FALSE, recursive = TRUE)\n",
    "    \n",
    "    # Copy from group 1\n",
    "    for (i in partitioned_indices[[1]]) {\n",
    "        file_path = paste0(\"/home/hs3393/cb_simulation/simulation_data/simulation_opera/real_simulation_2opera/causal_1_h2g_\", \n",
    "                           h2g, \"/real_simulation_2opera/sample_\", \n",
    "                           i, \"_real_simulation_1_ncausal_2_trait.rds\")\n",
    "        file.copy(from = file_path, to = path, overwrite = TRUE)\n",
    "    }\n",
    "    \n",
    "    # Copy from group 2\n",
    "    for (i in partitioned_indices[[2]]) {\n",
    "        file_path = paste0(\"/home/hs3393/cb_simulation/simulation_data/simulation_opera/real_simulation_2opera/causal_2_h2g_\", \n",
    "                           h2g, \"/real_simulation_2opera/sample_\", \n",
    "                           i, \"_real_simulation_2_ncausal_2_trait.rds\")\n",
    "        file.copy(from = file_path, to = path, overwrite = TRUE)\n",
    "    }\n",
    "    \n",
    "    # Copy from group 3\n",
    "    for (i in partitioned_indices[[3]]) {\n",
    "        file_path = paste0(\"/home/hs3393/cb_simulation/simulation_data/simulation_opera/real_simulation_2opera/causal_3_h2g_\", \n",
    "                           h2g, \"/real_simulation_2opera/sample_\", \n",
    "                           i, \"_real_simulation_3_ncausal_2_trait.rds\")\n",
    "        file.copy(from = file_path, to = path, overwrite = TRUE)\n",
    "    }\n",
    "}\n",
    "\n",
    "# ------------------------\n",
    "# Part 2: 5 causal variants\n",
    "# ------------------------\n",
    "\n",
    "set.seed(100)  # Reset seed\n",
    "total_indices <- 500\n",
    "proportions <- trait_5  # Proportions for 5 causal variant groups\n",
    "\n",
    "# Calculate number of samples per group\n",
    "group_sizes <- floor(total_indices * proportions)\n",
    "group_sizes[1] <- group_sizes[1] + (total_indices - sum(group_sizes))\n",
    "\n",
    "groups <- rep(1:4, times = group_sizes)\n",
    "groups <- sample(groups)\n",
    "\n",
    "partitioned_indices <- lapply(1:4, function(i) which(groups == i) - 1)\n",
    "\n",
    "for (h2g in c(0.02, 0.03, 0.04, 0.05)) {\n",
    "    path = paste0(\"/home/hs3393/cb_simulation/simulation_data/simulation_opera/real_simulation_5opera/h2g_\", h2g, \"_mix/\")\n",
    "    dir.create(path, showWarnings = FALSE, recursive = TRUE)\n",
    "    \n",
    "    for (i in partitioned_indices[[1]]) {\n",
    "        file_path = paste0(\"/home/hs3393/cb_simulation/simulation_data/simulation_opera/real_simulation_5opera/causal_1_h2g_\", \n",
    "                           h2g, \"/real_simulation_5opera/sample_\", \n",
    "                           i, \"_real_simulation_1_ncausal_5_trait.rds\")\n",
    "        file.copy(from = file_path, to = path, overwrite = TRUE)\n",
    "    }\n",
    "    \n",
    "    for (i in partitioned_indices[[2]]) {\n",
    "        file_path = paste0(\"/home/hs3393/cb_simulation/simulation_data/simulation_opera/real_simulation_5opera/causal_2_h2g_\", \n",
    "                           h2g, \"/real_simulation_5opera/sample_\", \n",
    "                           i, \"_real_simulation_2_ncausal_5_trait.rds\")\n",
    "        file.copy(from = file_path, to = path, overwrite = TRUE)\n",
    "    }\n",
    "    \n",
    "    for (i in partitioned_indices[[3]]) {\n",
    "        file_path = paste0(\"/home/hs3393/cb_simulation/simulation_data/simulation_opera/real_simulation_5opera/causal_3_h2g_\", \n",
    "                           h2g, \"/real_simulation_5opera/sample_\", \n",
    "                           i, \"_real_simulation_3_ncausal_5_trait.rds\")\n",
    "        file.copy(from = file_path, to = path, overwrite = TRUE)\n",
    "    }\n",
    "    \n",
    "    for (i in partitioned_indices[[4]]) {\n",
    "        file_path = paste0(\"/home/hs3393/cb_simulation/simulation_data/simulation_opera/real_simulation_5opera/causal_4_h2g_\", \n",
    "                           h2g, \"/real_simulation_5opera/sample_\", \n",
    "                           i, \"_real_simulation_4_ncausal_5_trait.rds\")\n",
    "        file.copy(from = file_path, to = path, overwrite = TRUE)\n",
    "    }\n",
    "}\n",
    "\n",
    "# -------------------------\n",
    "# Part 3: 10 causal variants\n",
    "# -------------------------\n",
    "\n",
    "set.seed(100)\n",
    "total_indices <- 500\n",
    "proportions <- trait_10  # Proportions for 10 causal variant groups\n",
    "\n",
    "# Calculate number of samples per group\n",
    "group_sizes <- floor(total_indices * proportions)\n",
    "group_sizes[1] <- group_sizes[1] + (total_indices - sum(group_sizes))\n",
    "\n",
    "groups <- rep(1:5, times = group_sizes)\n",
    "groups <- sample(groups)\n",
    "\n",
    "partitioned_indices <- lapply(1:5, function(i) which(groups == i) - 1)\n",
    "\n",
    "for (h2g in c(0.02, 0.03, 0.04, 0.05)) {\n",
    "    path = paste0(\"/home/hs3393/cb_simulation/simulation_data/simulation_opera/real_simulation_10opera/h2g_\", h2g, \"_mix/\")\n",
    "    dir.create(path, showWarnings = FALSE, recursive = TRUE)\n",
    "    \n",
    "    for (i in partitioned_indices[[1]]) {\n",
    "        file_path = paste0(\"/home/hs3393/cb_simulation/simulation_data/simulation_opera/real_simulation_10opera/causal_1_h2g_\", \n",
    "                           h2g, \"/real_simulation_10opera/sample_\", \n",
    "                           i, \"_real_simulation_1_ncausal_10_trait.rds\")\n",
    "        file.copy(from = file_path, to = path, overwrite = TRUE)\n",
    "    }\n",
    "    \n",
    "    for (i in partitioned_indices[[2]]) {\n",
    "        file_path = paste0(\"/home/hs3393/cb_simulation/simulation_data/simulation_opera/real_simulation_10opera/causal_2_h2g_\", \n",
    "                           h2g, \"/real_simulation_10opera/sample_\", \n",
    "                           i, \"_real_simulation_2_ncausal_10_trait.rds\")\n",
    "        file.copy(from = file_path, to = path, overwrite = TRUE)\n",
    "    }\n",
    "    \n",
    "    for (i in partitioned_indices[[3]]) {\n",
    "        file_path = paste0(\"/home/hs3393/cb_simulation/simulation_data/simulation_opera/real_simulation_10opera/causal_3_h2g_\", \n",
    "                           h2g, \"/real_simulation_10opera/sample_\", \n",
    "                           i, \"_real_simulation_3_ncausal_10_trait.rds\")\n",
    "        file.copy(from = file_path, to = path, overwrite = TRUE)\n",
    "    }\n",
    "    \n",
    "    for (i in partitioned_indices[[4]]) {\n",
    "        file_path = paste0(\"/home/hs3393/cb_simulation/simulation_data/simulation_opera/real_simulation_10opera/causal_4_h2g_\", \n",
    "                           h2g, \"/real_simulation_10opera/sample_\", \n",
    "                           i, \"_real_simulation_4_ncausal_10_trait.rds\")\n",
    "        file.copy(from = file_path, to = path, overwrite = TRUE)\n",
    "    }\n",
    "    \n",
    "    for (i in partitioned_indices[[5]]) {\n",
    "        file_path = paste0(\"/home/hs3393/cb_simulation/simulation_data/simulation_opera/real_simulation_10opera/causal_5_h2g_\", \n",
    "                           h2g, \"/real_simulation_10opera/sample_\", \n",
    "                           i, \"_real_simulation_5_ncausal_10_trait.rds\")\n",
    "        file.copy(from = file_path, to = path, overwrite = TRUE)\n",
    "    }\n",
    "}\n"
   ]
  },
  {
   "cell_type": "markdown",
   "id": "c9fe4389-de48-4ade-bf60-6ea433082b48",
   "metadata": {
    "kernel": "R"
   },
   "source": [
    "## Step 3: Transform individual level simulation into sumstat"
   ]
  },
  {
   "cell_type": "code",
   "execution_count": null,
   "id": "85246a99-49de-4eef-b90a-c4dcd31c59b0",
   "metadata": {
    "kernel": "R"
   },
   "outputs": [],
   "source": [
    "# --- Load necessary libraries ---\n",
    "library(\"MASS\")\n",
    "library(\"plink2R\")\n",
    "library(\"dplyr\")\n",
    "library(\"readr\")\n",
    "library(\"tidyverse\")\n",
    "\n",
    "# install simulation package\n",
    "# devtools::install_github(\"StatFunGen/simxQTL\", build_vignettes = FALSE)\n",
    "# BiocManager::install(\"StatFunGen/pecotmr\")\n",
    "library(\"pecotmr\")\n",
    "\n",
    "# --- Load helper functions ---\n",
    "source(\"~/simxQTL/simulate_linreg.R\")\n",
    "\n",
    "# Function to calculate GWAS summary statistics for each SNP\n",
    "calculate_sumstat = function(X, Y) {\n",
    "    Beta = c()\n",
    "    se = c()\n",
    "    Freq = c()\n",
    "    p = c()\n",
    "    \n",
    "    for (mm in 1:ncol(X)) {\n",
    "        rr <- susieR::univariate_regression(X[, mm], Y)\n",
    "        Beta[mm] = rr$betahat\n",
    "        se[mm] = rr$sebetahat\n",
    "        Freq[mm] = sum(X[, mm]) / (2 * nrow(X))\n",
    "        p[mm] = 2 * (1 - pnorm(abs(rr$betahat / rr$sebetahat)))\n",
    "    }\n",
    "    \n",
    "    # Assemble summary statistics table\n",
    "    tb = tibble(\n",
    "        SNP = colnames(X),\n",
    "        Beta = Beta,\n",
    "        se = se,\n",
    "        Freq = Freq,\n",
    "        p = p\n",
    "    ) %>%\n",
    "    separate(SNP, into = c(\"Chr\", \"Bp\", \"A2\", \"A1\"), sep = \"[:_]\", remove = FALSE) %>%\n",
    "    select(Chr, SNP, Bp, A1, A2, Freq, Beta, se, p) %>%\n",
    "    mutate(\n",
    "        Chr = str_replace(Chr, \"chr\", \"\"),\n",
    "        Chr = as.numeric(Chr),\n",
    "        Bp = as.numeric(Bp)\n",
    "    )\n",
    "    \n",
    "    return(tb)\n",
    "}\n",
    "\n",
    "# ------------------------------\n",
    "# Main script to process samples\n",
    "# ------------------------------\n",
    "\n",
    "cnt = 1\n",
    "ntrait = TRAIT  # Number of traits (user-defined)\n",
    "h2g = H2G       # Heritability value (user-defined)\n",
    "\n",
    "# Define input path\n",
    "path = paste0(\"/home/hs3393/cb_simulation/simulation_data/simulation_opera/real_simulation_\", ntrait, \"opera/h2g_\", h2g, \"_mix\")\n",
    "files = list.files(path, full.names = TRUE, pattern = \".rds\")\n",
    "\n",
    "# Initialize data list\n",
    "data <- rep(list(NULL), length(files))\n",
    "\n",
    "# Loop over all input files\n",
    "for (file in files) {\n",
    "    rds = readRDS(file)\n",
    "    X = rds$X\n",
    "    Y = rds$Y\n",
    "    trait = list()\n",
    "    \n",
    "    # Process first trait (apply special formatting)\n",
    "    trait[[1]] = calculate_sumstat(X, Y[, 1, drop = TRUE]) %>%\n",
    "                 rename(freq = Freq, b = Beta) %>%\n",
    "                 mutate(N = 1160) %>%\n",
    "                 select(SNP, A1, A2, freq, b, se, p, N)\n",
    "    \n",
    "    # Process remaining traits\n",
    "    for (i in 2:ncol(Y)) {\n",
    "        trait[[i]] = calculate_sumstat(X, Y[, i, drop = TRUE])\n",
    "    }\n",
    "    \n",
    "    # Extract sample index from filename\n",
    "    index = str_extract(file, \"(?<=sample_)\\\\d+\")\n",
    "    \n",
    "    # Prepare output data structure\n",
    "    data = list()\n",
    "    data[[\"trait\"]] = trait\n",
    "    data$index = index\n",
    "    data$gwas_var_num = length(rds$variant[[1]])\n",
    "    \n",
    "    # Create output directory if it does not exist\n",
    "    dir.create(\n",
    "        paste0(\"/home/hs3393/cb_simulation/simulation_data/simulation_opera/real_simulation_\", ntrait, \"opera/mix_sumstat/h2g_\", h2g, \"/real_simulation_\", ntrait, \"opera\"),\n",
    "        showWarnings = FALSE,\n",
    "        recursive = TRUE\n",
    "    )\n",
    "    \n",
    "    # Save processed summary statistics\n",
    "    saveRDS(\n",
    "        data,\n",
    "        paste0(\"/home/hs3393/cb_simulation/simulation_data/simulation_opera/real_simulation_\", ntrait, \"opera/mix_sumstat/h2g_\", h2g, \"/real_simulation_\", ntrait, \"opera/index_\", index, \".rds\")\n",
    "    )\n",
    "    \n",
    "    cnt = cnt + 1\n",
    "}\n"
   ]
  },
  {
   "cell_type": "markdown",
   "id": "860f66a2-9f60-4594-9e9a-aea6dbea6c6b",
   "metadata": {
    "kernel": "R"
   },
   "source": [
    "### Example output"
   ]
  },
  {
   "cell_type": "code",
   "execution_count": null,
   "id": "00bf3c80-8daf-46ef-b493-54550a957260",
   "metadata": {
    "kernel": "R",
    "tags": []
   },
   "outputs": [
    {
     "name": "stdout",
     "output_type": "stream",
     "text": [
      "List of 3\n",
      " $ trait       :List of 2\n",
      "  ..$ :Classes ‘tbl_df’, ‘tbl’ and 'data.frame':\t6791 obs. of  8 variables:\n",
      "  .. ..$ SNP : chr [1:6791] \"chr12:108093914_C_T\" \"chr12:108093950_A_G\" \"chr12:108094333_C_G\" \"chr12:108094913_A_G\" ...\n",
      "  .. ..$ A1  : chr [1:6791] \"T\" \"G\" \"G\" \"G\" ...\n",
      "  .. ..$ A2  : chr [1:6791] \"C\" \"A\" \"C\" \"A\" ...\n",
      "  .. ..$ freq: num [1:6791] 0.0924 0.3747 0.3504 0.0928 0.2207 ...\n",
      "  .. ..$ b   : num [1:6791] -0.4608 0.1953 -0.0277 -0.4819 -0.443 ...\n",
      "  .. ..$ se  : num [1:6791] 0.314 0.181 0.191 0.314 0.212 ...\n",
      "  .. ..$ p   : num [1:6791] 0.1425 0.2811 0.885 0.1244 0.0369 ...\n",
      "  .. ..$ N   : num [1:6791] 1160 1160 1160 1160 1160 1160 1160 1160 1160 1160 ...\n",
      "  ..$ :Classes ‘tbl_df’, ‘tbl’ and 'data.frame':\t6791 obs. of  9 variables:\n",
      "  .. ..$ Chr : num [1:6791] 12 12 12 12 12 12 12 12 12 12 ...\n",
      "  .. ..$ SNP : chr [1:6791] \"chr12:108093914_C_T\" \"chr12:108093950_A_G\" \"chr12:108094333_C_G\" \"chr12:108094913_A_G\" ...\n",
      "  .. ..$ Bp  : num [1:6791] 1.08e+08 1.08e+08 1.08e+08 1.08e+08 1.08e+08 ...\n",
      "  .. ..$ A1  : chr [1:6791] \"T\" \"G\" \"G\" \"G\" ...\n",
      "  .. ..$ A2  : chr [1:6791] \"C\" \"A\" \"C\" \"A\" ...\n",
      "  .. ..$ Freq: num [1:6791] 0.0924 0.3747 0.3504 0.0928 0.2207 ...\n",
      "  .. ..$ Beta: num [1:6791] -0.1844 -0.1309 0.128 -0.1795 -0.0441 ...\n",
      "  .. ..$ se  : num [1:6791] 0.203 0.117 0.123 0.203 0.137 ...\n",
      "  .. ..$ p   : num [1:6791] 0.364 0.263 0.299 0.376 0.748 ...\n",
      " $ index       : chr \"240\"\n",
      " $ gwas_var_num: int 1\n"
     ]
    },
    {
     "data": {
      "text/html": [
       "<table class=\"dataframe\">\n",
       "<caption>A tibble: 6 × 8</caption>\n",
       "<thead>\n",
       "\t<tr><th></th><th scope=col>SNP</th><th scope=col>A1</th><th scope=col>A2</th><th scope=col>freq</th><th scope=col>b</th><th scope=col>se</th><th scope=col>p</th><th scope=col>N</th></tr>\n",
       "\t<tr><th></th><th scope=col>&lt;chr&gt;</th><th scope=col>&lt;chr&gt;</th><th scope=col>&lt;chr&gt;</th><th scope=col>&lt;dbl&gt;</th><th scope=col>&lt;dbl&gt;</th><th scope=col>&lt;dbl&gt;</th><th scope=col>&lt;dbl&gt;</th><th scope=col>&lt;dbl&gt;</th></tr>\n",
       "</thead>\n",
       "<tbody>\n",
       "\t<tr><th scope=row>1</th><td>chr12:108093914_C_T</td><td>T</td><td>C</td><td>0.09236774</td><td>-0.46078434</td><td>0.3141903</td><td>0.14249112</td><td>1160</td></tr>\n",
       "\t<tr><th scope=row>2</th><td>chr12:108093950_A_G</td><td>G</td><td>A</td><td>0.37467476</td><td> 0.19533530</td><td>0.1812171</td><td>0.28107492</td><td>1160</td></tr>\n",
       "\t<tr><th scope=row>3</th><td>chr12:108094333_C_G</td><td>G</td><td>C</td><td>0.35039029</td><td>-0.02765113</td><td>0.1911775</td><td>0.88499837</td><td>1160</td></tr>\n",
       "\t<tr><th scope=row>4</th><td>chr12:108094913_A_G</td><td>G</td><td>A</td><td>0.09280139</td><td>-0.48190914</td><td>0.3136359</td><td>0.12440993</td><td>1160</td></tr>\n",
       "\t<tr><th scope=row>5</th><td>chr12:108095069_C_T</td><td>T</td><td>C</td><td>0.22072853</td><td>-0.44301635</td><td>0.2122775</td><td>0.03689105</td><td>1160</td></tr>\n",
       "\t<tr><th scope=row>6</th><td>chr12:108095158_C_T</td><td>T</td><td>C</td><td>0.25628794</td><td> 0.19442679</td><td>0.2086272</td><td>0.35137065</td><td>1160</td></tr>\n",
       "</tbody>\n",
       "</table>\n"
      ],
      "text/latex": [
       "A tibble: 6 × 8\n",
       "\\begin{tabular}{r|llllllll}\n",
       "  & SNP & A1 & A2 & freq & b & se & p & N\\\\\n",
       "  & <chr> & <chr> & <chr> & <dbl> & <dbl> & <dbl> & <dbl> & <dbl>\\\\\n",
       "\\hline\n",
       "\t1 & chr12:108093914\\_C\\_T & T & C & 0.09236774 & -0.46078434 & 0.3141903 & 0.14249112 & 1160\\\\\n",
       "\t2 & chr12:108093950\\_A\\_G & G & A & 0.37467476 &  0.19533530 & 0.1812171 & 0.28107492 & 1160\\\\\n",
       "\t3 & chr12:108094333\\_C\\_G & G & C & 0.35039029 & -0.02765113 & 0.1911775 & 0.88499837 & 1160\\\\\n",
       "\t4 & chr12:108094913\\_A\\_G & G & A & 0.09280139 & -0.48190914 & 0.3136359 & 0.12440993 & 1160\\\\\n",
       "\t5 & chr12:108095069\\_C\\_T & T & C & 0.22072853 & -0.44301635 & 0.2122775 & 0.03689105 & 1160\\\\\n",
       "\t6 & chr12:108095158\\_C\\_T & T & C & 0.25628794 &  0.19442679 & 0.2086272 & 0.35137065 & 1160\\\\\n",
       "\\end{tabular}\n"
      ],
      "text/markdown": [
       "\n",
       "A tibble: 6 × 8\n",
       "\n",
       "| <!--/--> | SNP &lt;chr&gt; | A1 &lt;chr&gt; | A2 &lt;chr&gt; | freq &lt;dbl&gt; | b &lt;dbl&gt; | se &lt;dbl&gt; | p &lt;dbl&gt; | N &lt;dbl&gt; |\n",
       "|---|---|---|---|---|---|---|---|---|\n",
       "| 1 | chr12:108093914_C_T | T | C | 0.09236774 | -0.46078434 | 0.3141903 | 0.14249112 | 1160 |\n",
       "| 2 | chr12:108093950_A_G | G | A | 0.37467476 |  0.19533530 | 0.1812171 | 0.28107492 | 1160 |\n",
       "| 3 | chr12:108094333_C_G | G | C | 0.35039029 | -0.02765113 | 0.1911775 | 0.88499837 | 1160 |\n",
       "| 4 | chr12:108094913_A_G | G | A | 0.09280139 | -0.48190914 | 0.3136359 | 0.12440993 | 1160 |\n",
       "| 5 | chr12:108095069_C_T | T | C | 0.22072853 | -0.44301635 | 0.2122775 | 0.03689105 | 1160 |\n",
       "| 6 | chr12:108095158_C_T | T | C | 0.25628794 |  0.19442679 | 0.2086272 | 0.35137065 | 1160 |\n",
       "\n"
      ],
      "text/plain": [
       "  SNP                 A1 A2 freq       b           se        p          N   \n",
       "1 chr12:108093914_C_T T  C  0.09236774 -0.46078434 0.3141903 0.14249112 1160\n",
       "2 chr12:108093950_A_G G  A  0.37467476  0.19533530 0.1812171 0.28107492 1160\n",
       "3 chr12:108094333_C_G G  C  0.35039029 -0.02765113 0.1911775 0.88499837 1160\n",
       "4 chr12:108094913_A_G G  A  0.09280139 -0.48190914 0.3136359 0.12440993 1160\n",
       "5 chr12:108095069_C_T T  C  0.22072853 -0.44301635 0.2122775 0.03689105 1160\n",
       "6 chr12:108095158_C_T T  C  0.25628794  0.19442679 0.2086272 0.35137065 1160"
      ]
     },
     "metadata": {},
     "output_type": "display_data"
    }
   ],
   "source": [
    "result = readRDS(\"../simulation_data/simulation_opera/real_simulation_2opera/mix_sumstat/h2g_0.02/real_simulation_2opera/index_240.rds\")\n",
    "str(result)\n",
    "head(result$trait[[1]])"
   ]
  },
  {
   "cell_type": "code",
   "execution_count": null,
   "id": "cdd615ca-bfe6-4836-8051-b1afd9195be0",
   "metadata": {
    "kernel": "R"
   },
   "outputs": [],
   "source": [
    "base_sh=\"base_script\"\n",
    "# Create the base_script file and write the bash code into it\n",
    "cat << 'EOF' > ${base_sh}\n",
    "#!/bin/bash -l\n",
    "# NOTE the -l flag!\n",
    "#\n",
    "#SBATCH -t 78:00:00\n",
    "#SBATCH --mem=30000\n",
    "#SBATCH -J extract\n",
    "#SBATCH -o /home/hs3393/cloud_colocalization/submission_script/sumstat_generate/log/extract.%j.out\n",
    "#SBATCH -e /home/hs3393/cloud_colocalization/submission_script/sumstat_generate/log/extract.%j.err\n",
    "\n",
    "source ~/mamba_activate.sh\n",
    "module load Singularity\n",
    "\n",
    "Rscript /home/hs3393/cb_simulation/simulation_data/simulation_opera/opera_code/sumstat_generate/trait_TRAIT_h2g_H2G.R\n",
    "EOF\n",
    "\n",
    "base_R=\"base_R\"\n",
    "\n",
    "for trait in 2 5 10; do\n",
    "    for h2g in 0.02 0.03 0.04 0.05; do\n",
    "        output_R=\"trait_${trait}_h2g_${h2g}.R\"\n",
    "        output_sh=\"trait_${trait}_h2g_${h2g}.sh\"\n",
    "        cat ${base_R}| sed \"s|TRAIT|${trait}|g\" | sed \"s|H2G|${h2g}|g\"   > ${output_R}\n",
    "        cat ${base_sh}| sed \"s|TRAIT|${trait}|g\" | sed \"s|H2G|${h2g}|g\"  > ${output_sh}\n",
    "        sbatch ${output_sh}\n",
    "    done\n",
    "done"
   ]
  },
  {
   "cell_type": "markdown",
   "id": "6fdc46d5-c9da-44ba-9222-9d49a9da6ffd",
   "metadata": {
    "kernel": "R"
   },
   "source": [
    "## Step 4: Transform sumstat into .esd format and make the .flist summary file\n",
    "\n",
    "Also, GWAS trait is saved into .ma format."
   ]
  },
  {
   "cell_type": "code",
   "execution_count": null,
   "id": "521f77d0-aa43-41fb-9b87-00b09e66a4cd",
   "metadata": {
    "kernel": "R"
   },
   "outputs": [],
   "source": [
    "# Prepare input files for OPERA simulations (mixed sumstats)\n",
    "\n",
    "# Load libraries\n",
    "library(tidyverse)\n",
    "\n",
    "# ----------------------\n",
    "# Initialize parameters\n",
    "# ----------------------\n",
    "cnt = 1\n",
    "ntrait = TRAIT  # Number of traits (user-defined)\n",
    "h2g = H2G       # Heritability (user-defined)\n",
    "\n",
    "# Define paths\n",
    "cwd = paste0(\"/home/hs3393/cb_simulation/simulation_data/simulation_opera/real_simulation_\", \n",
    "             ntrait, \"opera/mix_sumstat/h2g_\", h2g, \"/real_simulation_\", ntrait, \"opera/\")\n",
    "\n",
    "# Create output directory\n",
    "dir.create(paste0(\"/home/hs3393/cb_simulation/simulation_data/simulation_opera/real_simulation_\", \n",
    "                  ntrait, \"opera/opera_input_mix/\", \"h2g_\", h2g, \"/real_simulation_\", ntrait, \"opera/\"), \n",
    "           showWarnings = FALSE, recursive = TRUE)\n",
    "\n",
    "output_path = paste0(\"/home/hs3393/cb_simulation/simulation_data/simulation_opera/real_simulation_\", \n",
    "                     ntrait, \"opera/opera_input_mix/\", \"h2g_\", h2g, \"/real_simulation_\", ntrait, \"opera/\")\n",
    "\n",
    "# ----------------------\n",
    "# Initialize storage\n",
    "# ----------------------\n",
    "gwas = list()\n",
    "path = vector(\"list\", ntrait)\n",
    "chr = c()\n",
    "distance = c()\n",
    "probe_id = c()\n",
    "\n",
    "# ----------------------\n",
    "# Process each mixed sumstat file\n",
    "# ----------------------\n",
    "cnt = 1\n",
    "for (file in list.files(cwd, pattern = \".rds\")) {\n",
    "    file_path = paste0(cwd, file)\n",
    "    rds = readRDS(file_path)\n",
    "    \n",
    "    # Extract TAD (region) index from file name\n",
    "    tad_index = as.numeric(sub(\".*index_([0-9]+).*\", \"\\\\1\", file_path))\n",
    "    \n",
    "    # Save GWAS for the first trait\n",
    "    gwas[[cnt]] = rds$trait[[1]]\n",
    "    \n",
    "    # Record metadata (chromosome and region midpoint)\n",
    "    distance[cnt] = floor((max(as.numeric(rds$trait[[2]]$Bp)) + min(as.numeric(rds$trait[[2]]$Bp))) / 2)\n",
    "    chr[cnt] = unique(rds$trait[[2]]$Chr)\n",
    "    probe_id[cnt] = paste0(\"Region_\", tad_index)\n",
    "    \n",
    "    # Save other traits as separate ESD files\n",
    "    for (i in 2:ntrait) {\n",
    "        path[[i-1]][cnt] = paste0(output_path, \"/region_\", tad_index, \"_trait_\", i, \".esd\")\n",
    "        rds$trait[[i]] %>% write_tsv(path[[i-1]][cnt])\n",
    "    }\n",
    "    \n",
    "    cnt = cnt + 1\n",
    "}\n",
    "\n",
    "# ----------------------\n",
    "# Write .flist files for traits 2 to ntrait\n",
    "# ----------------------\n",
    "for (i in 2:ntrait) {\n",
    "    tibble(\n",
    "        Chr = chr, \n",
    "        ProbeID = paste0(probe_id, \"_\", i), \n",
    "        GeneticDistance = 0,   # Set genetic distance to 0 (not used here)\n",
    "        ProbeBp = distance, \n",
    "        Gene = paste0(probe_id, \"_\", i),  \n",
    "        Orientation = NA, \n",
    "        PathOfEsd = path[[i-1]]\n",
    "    ) %>%  \n",
    "    write_tsv(paste0(output_path, \"/trait_\", i, \".flist\"))\n",
    "}\n",
    "\n",
    "# ----------------------\n",
    "# Write .ma file for trait 1 and SNP list\n",
    "# ----------------------\n",
    "\n",
    "# Combine and save all trait 1 GWAS summary stats\n",
    "bind_rows(gwas) %>% \n",
    "    write_tsv(paste0(output_path, \"/trait_1.ma\"))\n",
    "\n",
    "# Save list of SNPs (for reference)\n",
    "bind_rows(gwas) %>% \n",
    "    select(SNP) %>% \n",
    "    write_tsv(paste0(output_path, \"/remain_snp.tsv\"), col_names = FALSE)\n"
   ]
  },
  {
   "cell_type": "markdown",
   "id": "bf267388-fa1e-41a4-86be-933cb8206990",
   "metadata": {
    "kernel": "R"
   },
   "source": [
    "### Example output"
   ]
  },
  {
   "cell_type": "code",
   "execution_count": null,
   "id": "6973c9d7-bee2-4eec-ae18-7c1ee96ec4c3",
   "metadata": {
    "kernel": "R",
    "tags": []
   },
   "outputs": [
    {
     "name": "stderr",
     "output_type": "stream",
     "text": [
      "\u001b[1mRows: \u001b[22m\u001b[34m5504\u001b[39m \u001b[1mColumns: \u001b[22m\u001b[34m9\u001b[39m\n",
      "\u001b[36m──\u001b[39m \u001b[1mColumn specification\u001b[22m \u001b[36m────────────────────────────────────────────────────────\u001b[39m\n",
      "\u001b[1mDelimiter:\u001b[22m \"\\t\"\n",
      "\u001b[31mchr\u001b[39m (3): SNP, A1, A2\n",
      "\u001b[32mdbl\u001b[39m (6): Chr, Bp, Freq, Beta, se, p\n",
      "\n",
      "\u001b[36mℹ\u001b[39m Use `spec()` to retrieve the full column specification for this data.\n",
      "\u001b[36mℹ\u001b[39m Specify the column types or set `show_col_types = FALSE` to quiet this message.\n"
     ]
    }
   ],
   "source": [
    "library(tidyverse)\n",
    "result = read_delim(\"../simulation_data/simulation_opera/real_simulation_2opera/opera_input_mix/h2g_0.02/real_simulation_2opera/region_274_trait_2.esd\")\n",
    "head(result)"
   ]
  },
  {
   "cell_type": "code",
   "execution_count": null,
   "id": "4660342d-1b09-41ac-8f97-47dce6a0be97",
   "metadata": {
    "kernel": "R",
    "tags": []
   },
   "outputs": [
    {
     "name": "stderr",
     "output_type": "stream",
     "text": [
      "\u001b[1mRows: \u001b[22m\u001b[34m495\u001b[39m \u001b[1mColumns: \u001b[22m\u001b[34m7\u001b[39m\n",
      "\u001b[36m──\u001b[39m \u001b[1mColumn specification\u001b[22m \u001b[36m────────────────────────────────────────────────────────\u001b[39m\n",
      "\u001b[1mDelimiter:\u001b[22m \"\\t\"\n",
      "\u001b[31mchr\u001b[39m (3): ProbeID, Gene, PathOfEsd\n",
      "\u001b[32mdbl\u001b[39m (3): Chr, GeneticDistance, ProbeBp\n",
      "\u001b[33mlgl\u001b[39m (1): Orientation\n",
      "\n",
      "\u001b[36mℹ\u001b[39m Use `spec()` to retrieve the full column specification for this data.\n",
      "\u001b[36mℹ\u001b[39m Specify the column types or set `show_col_types = FALSE` to quiet this message.\n"
     ]
    },
    {
     "data": {
      "text/html": [
       "<table class=\"dataframe\">\n",
       "<caption>A tibble: 6 × 7</caption>\n",
       "<thead>\n",
       "\t<tr><th scope=col>Chr</th><th scope=col>ProbeID</th><th scope=col>GeneticDistance</th><th scope=col>ProbeBp</th><th scope=col>Gene</th><th scope=col>Orientation</th><th scope=col>PathOfEsd</th></tr>\n",
       "\t<tr><th scope=col>&lt;dbl&gt;</th><th scope=col>&lt;chr&gt;</th><th scope=col>&lt;dbl&gt;</th><th scope=col>&lt;dbl&gt;</th><th scope=col>&lt;chr&gt;</th><th scope=col>&lt;lgl&gt;</th><th scope=col>&lt;chr&gt;</th></tr>\n",
       "</thead>\n",
       "<tbody>\n",
       "\t<tr><td> 8</td><td>Region_0_2  </td><td>0</td><td> 17497391</td><td>Region_0_2  </td><td>NA</td><td>/home/hs3393/cb_simulation/simulation_data/simulation_opera/real_simulation_2opera/opera_input_mix/h2g_0.02/real_simulation_2opera//region_0_trait_2.esd  </td></tr>\n",
       "\t<tr><td> 7</td><td>Region_1_2  </td><td>0</td><td>107320728</td><td>Region_1_2  </td><td>NA</td><td>/home/hs3393/cb_simulation/simulation_data/simulation_opera/real_simulation_2opera/opera_input_mix/h2g_0.02/real_simulation_2opera//region_1_trait_2.esd  </td></tr>\n",
       "\t<tr><td> 5</td><td>Region_10_2 </td><td>0</td><td>113896770</td><td>Region_10_2 </td><td>NA</td><td>/home/hs3393/cb_simulation/simulation_data/simulation_opera/real_simulation_2opera/opera_input_mix/h2g_0.02/real_simulation_2opera//region_10_trait_2.esd </td></tr>\n",
       "\t<tr><td>20</td><td>Region_100_2</td><td>0</td><td> 61926166</td><td>Region_100_2</td><td>NA</td><td>/home/hs3393/cb_simulation/simulation_data/simulation_opera/real_simulation_2opera/opera_input_mix/h2g_0.02/real_simulation_2opera//region_100_trait_2.esd</td></tr>\n",
       "\t<tr><td>20</td><td>Region_101_2</td><td>0</td><td> 35475951</td><td>Region_101_2</td><td>NA</td><td>/home/hs3393/cb_simulation/simulation_data/simulation_opera/real_simulation_2opera/opera_input_mix/h2g_0.02/real_simulation_2opera//region_101_trait_2.esd</td></tr>\n",
       "\t<tr><td> 1</td><td>Region_102_2</td><td>0</td><td>147899365</td><td>Region_102_2</td><td>NA</td><td>/home/hs3393/cb_simulation/simulation_data/simulation_opera/real_simulation_2opera/opera_input_mix/h2g_0.02/real_simulation_2opera//region_102_trait_2.esd</td></tr>\n",
       "</tbody>\n",
       "</table>\n"
      ],
      "text/latex": [
       "A tibble: 6 × 7\n",
       "\\begin{tabular}{lllllll}\n",
       " Chr & ProbeID & GeneticDistance & ProbeBp & Gene & Orientation & PathOfEsd\\\\\n",
       " <dbl> & <chr> & <dbl> & <dbl> & <chr> & <lgl> & <chr>\\\\\n",
       "\\hline\n",
       "\t  8 & Region\\_0\\_2   & 0 &  17497391 & Region\\_0\\_2   & NA & /home/hs3393/cb\\_simulation/simulation\\_data/simulation\\_opera/real\\_simulation\\_2opera/opera\\_input\\_mix/h2g\\_0.02/real\\_simulation\\_2opera//region\\_0\\_trait\\_2.esd  \\\\\n",
       "\t  7 & Region\\_1\\_2   & 0 & 107320728 & Region\\_1\\_2   & NA & /home/hs3393/cb\\_simulation/simulation\\_data/simulation\\_opera/real\\_simulation\\_2opera/opera\\_input\\_mix/h2g\\_0.02/real\\_simulation\\_2opera//region\\_1\\_trait\\_2.esd  \\\\\n",
       "\t  5 & Region\\_10\\_2  & 0 & 113896770 & Region\\_10\\_2  & NA & /home/hs3393/cb\\_simulation/simulation\\_data/simulation\\_opera/real\\_simulation\\_2opera/opera\\_input\\_mix/h2g\\_0.02/real\\_simulation\\_2opera//region\\_10\\_trait\\_2.esd \\\\\n",
       "\t 20 & Region\\_100\\_2 & 0 &  61926166 & Region\\_100\\_2 & NA & /home/hs3393/cb\\_simulation/simulation\\_data/simulation\\_opera/real\\_simulation\\_2opera/opera\\_input\\_mix/h2g\\_0.02/real\\_simulation\\_2opera//region\\_100\\_trait\\_2.esd\\\\\n",
       "\t 20 & Region\\_101\\_2 & 0 &  35475951 & Region\\_101\\_2 & NA & /home/hs3393/cb\\_simulation/simulation\\_data/simulation\\_opera/real\\_simulation\\_2opera/opera\\_input\\_mix/h2g\\_0.02/real\\_simulation\\_2opera//region\\_101\\_trait\\_2.esd\\\\\n",
       "\t  1 & Region\\_102\\_2 & 0 & 147899365 & Region\\_102\\_2 & NA & /home/hs3393/cb\\_simulation/simulation\\_data/simulation\\_opera/real\\_simulation\\_2opera/opera\\_input\\_mix/h2g\\_0.02/real\\_simulation\\_2opera//region\\_102\\_trait\\_2.esd\\\\\n",
       "\\end{tabular}\n"
      ],
      "text/markdown": [
       "\n",
       "A tibble: 6 × 7\n",
       "\n",
       "| Chr &lt;dbl&gt; | ProbeID &lt;chr&gt; | GeneticDistance &lt;dbl&gt; | ProbeBp &lt;dbl&gt; | Gene &lt;chr&gt; | Orientation &lt;lgl&gt; | PathOfEsd &lt;chr&gt; |\n",
       "|---|---|---|---|---|---|---|\n",
       "|  8 | Region_0_2   | 0 |  17497391 | Region_0_2   | NA | /home/hs3393/cb_simulation/simulation_data/simulation_opera/real_simulation_2opera/opera_input_mix/h2g_0.02/real_simulation_2opera//region_0_trait_2.esd   |\n",
       "|  7 | Region_1_2   | 0 | 107320728 | Region_1_2   | NA | /home/hs3393/cb_simulation/simulation_data/simulation_opera/real_simulation_2opera/opera_input_mix/h2g_0.02/real_simulation_2opera//region_1_trait_2.esd   |\n",
       "|  5 | Region_10_2  | 0 | 113896770 | Region_10_2  | NA | /home/hs3393/cb_simulation/simulation_data/simulation_opera/real_simulation_2opera/opera_input_mix/h2g_0.02/real_simulation_2opera//region_10_trait_2.esd  |\n",
       "| 20 | Region_100_2 | 0 |  61926166 | Region_100_2 | NA | /home/hs3393/cb_simulation/simulation_data/simulation_opera/real_simulation_2opera/opera_input_mix/h2g_0.02/real_simulation_2opera//region_100_trait_2.esd |\n",
       "| 20 | Region_101_2 | 0 |  35475951 | Region_101_2 | NA | /home/hs3393/cb_simulation/simulation_data/simulation_opera/real_simulation_2opera/opera_input_mix/h2g_0.02/real_simulation_2opera//region_101_trait_2.esd |\n",
       "|  1 | Region_102_2 | 0 | 147899365 | Region_102_2 | NA | /home/hs3393/cb_simulation/simulation_data/simulation_opera/real_simulation_2opera/opera_input_mix/h2g_0.02/real_simulation_2opera//region_102_trait_2.esd |\n",
       "\n"
      ],
      "text/plain": [
       "  Chr ProbeID      GeneticDistance ProbeBp   Gene         Orientation\n",
       "1  8  Region_0_2   0                17497391 Region_0_2   NA         \n",
       "2  7  Region_1_2   0               107320728 Region_1_2   NA         \n",
       "3  5  Region_10_2  0               113896770 Region_10_2  NA         \n",
       "4 20  Region_100_2 0                61926166 Region_100_2 NA         \n",
       "5 20  Region_101_2 0                35475951 Region_101_2 NA         \n",
       "6  1  Region_102_2 0               147899365 Region_102_2 NA         \n",
       "  PathOfEsd                                                                                                                                                 \n",
       "1 /home/hs3393/cb_simulation/simulation_data/simulation_opera/real_simulation_2opera/opera_input_mix/h2g_0.02/real_simulation_2opera//region_0_trait_2.esd  \n",
       "2 /home/hs3393/cb_simulation/simulation_data/simulation_opera/real_simulation_2opera/opera_input_mix/h2g_0.02/real_simulation_2opera//region_1_trait_2.esd  \n",
       "3 /home/hs3393/cb_simulation/simulation_data/simulation_opera/real_simulation_2opera/opera_input_mix/h2g_0.02/real_simulation_2opera//region_10_trait_2.esd \n",
       "4 /home/hs3393/cb_simulation/simulation_data/simulation_opera/real_simulation_2opera/opera_input_mix/h2g_0.02/real_simulation_2opera//region_100_trait_2.esd\n",
       "5 /home/hs3393/cb_simulation/simulation_data/simulation_opera/real_simulation_2opera/opera_input_mix/h2g_0.02/real_simulation_2opera//region_101_trait_2.esd\n",
       "6 /home/hs3393/cb_simulation/simulation_data/simulation_opera/real_simulation_2opera/opera_input_mix/h2g_0.02/real_simulation_2opera//region_102_trait_2.esd"
      ]
     },
     "metadata": {},
     "output_type": "display_data"
    }
   ],
   "source": [
    "library(tidyverse)\n",
    "result = read_delim(\"../simulation_data/simulation_opera/real_simulation_2opera/opera_input_mix/h2g_0.02/real_simulation_2opera/trait_2.flist\")\n",
    "head(result)"
   ]
  },
  {
   "cell_type": "code",
   "execution_count": null,
   "id": "512bbcd3-287b-4adb-b6da-4c143b852b6b",
   "metadata": {
    "kernel": "R"
   },
   "outputs": [],
   "source": [
    "base_sh=\"base_script\"\n",
    "# Create the base_script file and write the bash code into it\n",
    "cat << 'EOF' > ${base_sh}\n",
    "#!/bin/bash -l\n",
    "# NOTE the -l flag!\n",
    "#\n",
    "#SBATCH -t 78:00:00\n",
    "#SBATCH --mem=50000\n",
    "#SBATCH -J extract\n",
    "#SBATCH -o /home/hs3393/cloud_colocalization/submission_script/opera_sumstat_extract/log/config.%j.out\n",
    "#SBATCH -e /home/hs3393/cloud_colocalization/submission_script/opera_sumstat_extract/log/config.%j.err\n",
    "\n",
    "source ~/mamba_activate.sh\n",
    "module load Singularity\n",
    "\n",
    "Rscript /home/hs3393/cb_simulation/simulation_data/simulation_opera/opera_code/opera_sumstat_extract/trait_TRAIT_h2g_H2G.R\n",
    "EOF\n",
    "\n",
    "base_R=\"base_R\"\n",
    "\n",
    "for trait in 2 5 10; do\n",
    "    for h2g in 0.02 0.03 0.04 0.05; do\n",
    "        output_R=\"trait_${trait}_h2g_${h2g}.R\"\n",
    "        output_sh=\"trait_${trait}_h2g_${h2g}.sh\"\n",
    "        cat ${base_R}| sed \"s|TRAIT|${trait}|g\" | sed \"s|H2G|${h2g}|g\"   > ${output_R}\n",
    "        cat ${base_sh}| sed \"s|TRAIT|${trait}|g\" | sed \"s|H2G|${h2g}|g\"  > ${output_sh}\n",
    "        sbatch ${output_sh}\n",
    "    done\n",
    "done"
   ]
  },
  {
   "cell_type": "markdown",
   "id": "be52501a-d7e8-4c56-b6e6-2e22aa78486f",
   "metadata": {
    "kernel": "R"
   },
   "source": [
    "## Step 5: Use SMR to convert .esd files to .bsed files as OPERA input"
   ]
  },
  {
   "cell_type": "code",
   "execution_count": null,
   "id": "576739d6-9a02-4adc-8bb2-dd26e7078fd7",
   "metadata": {
    "kernel": "R",
    "tags": []
   },
   "outputs": [],
   "source": [
    "job_name=\"besd\"\n",
    "WD=\"/home/hs3393/cb_simulation/simulation_data/simulation_opera/opera_code/make_besd\"\n",
    "\n",
    "\n",
    "mkdir -p ${WD}/code\n",
    "mkdir -p ${WD}/log\n",
    "\n",
    "traits=(\"2\" \"5\" \"10\")\n",
    "h2gs=(\"0.02\" \"0.03\" \"0.04\" \"0.05\")\n",
    "\n",
    "cd ${WD}/code\n",
    "\n",
    "cat << 'EOF' > base_script\n",
    "#!/bin/bash -l\n",
    "# NOTE the -l flag!\n",
    "#\n",
    "#SBATCH -t 10:00:00\n",
    "#SBATCH --mem=30000\n",
    "#SBATCH -J JOBNAME\n",
    "#SBATCH -o PWD/log/JOBNAME.\"%j\".out\n",
    "#SBATCH -e PWD/log/JOBNAME.\"%j\".err\n",
    "\n",
    "\n",
    "source ~/mamba_activate.sh\n",
    "module load Singularity\n",
    "\n",
    "cd /home/hs3393/cb_simulation/simulation_data/simulation_opera/real_simulation_TRAITopera/opera_input_mix/h2g_H2G/real_simulation_TRAITopera\n",
    "\n",
    "for trait_num in {2..10}; do\n",
    "    ~/smr_heidi/SMR/smr-1.3.1-linux-x86_64/smr-1.3.1 \\\n",
    "    --eqtl-flist ./trait_${trait_num}.flist \\\n",
    "    --make-besd \\\n",
    "    --cis-wind 3000 \\ # extended since our cis region can be larger than 2Mb\n",
    "    --make-besd-dense \\ # keep all SNP info\n",
    "    --out ./trait_${trait_num}\n",
    "done\n",
    "\n",
    "EOF\n",
    "            \n",
    "base_script=\"base_script\"\n",
    "for trait in \"${traits[@]}\"; do\n",
    "      for h2g in \"${h2gs[@]}\"; do  \n",
    "            output_script=\"script_trait_${trait}_h2g_${h2g}.sh\"\n",
    "            cat ${base_script} | sed \"s|TRAIT|${trait}|g\" |  sed \"s|H2G|${h2g}|g\" | sed \"s|PWD|${WD}|g\" | sed \"s|JOBNAME|${job_name}|g\"  > ${output_script}\n",
    "            sb ${output_script}\n",
    "            # cat script_variant_${variant}.sh\n",
    "    done\n",
    "done\n",
    "\n"
   ]
  },
  {
   "cell_type": "markdown",
   "id": "96c660d6-a324-4646-8577-69372f0fd044",
   "metadata": {
    "kernel": "R"
   },
   "source": [
    "## Step 6: Exposure (QTL) meta file summary"
   ]
  },
  {
   "cell_type": "code",
   "execution_count": null,
   "id": "5ad8c8cb-1199-4211-85bf-31efce9b3967",
   "metadata": {
    "kernel": "R",
    "tags": []
   },
   "outputs": [],
   "source": [
    "# Create a two-line table with strings\n",
    "library(tidyverse)\n",
    "for(TRAIT in c(2,5,10)){\n",
    "        for(H2G in c(0.02, 0.03, 0.04, 0.05)){\n",
    "        path = c()\n",
    "        ntrait = TRAIT\n",
    "        h2g = H2G\n",
    "        cnt = 1\n",
    "        output_path = paste0(\"/home/hs3393/cb_simulation/simulation_data/simulation_opera/real_simulation_\", ntrait, \"opera/opera_input_mix/h2g_\", h2g, \"/real_simulation_\", ntrait, \"opera/\")\n",
    "        for(i in c(2:ntrait)){\n",
    "            path[cnt] = paste0(output_path, \"trait_\", i)\n",
    "            cnt = cnt + 1\n",
    "        }\n",
    "        data <- data.frame(Path = path)\n",
    "\n",
    "        # Print the data\n",
    "        print(data)\n",
    "\n",
    "        # Save the data to a CSV file\n",
    "        write_csv(data, paste0(output_path, \"/qtl_list\"), col_names = FALSE)\n",
    "        }\n",
    "}\n"
   ]
  },
  {
   "cell_type": "markdown",
   "id": "2d4f7f43-8c31-4848-8218-6394644e4e03",
   "metadata": {
    "kernel": "R"
   },
   "source": [
    "### Example output"
   ]
  },
  {
   "cell_type": "code",
   "execution_count": 13,
   "id": "fde764bd-124a-4d94-b25f-06086366b413",
   "metadata": {
    "kernel": "Bash",
    "tags": []
   },
   "outputs": [
    {
     "name": "stdout",
     "output_type": "stream",
     "text": [
      "/home/hs3393/cb_simulation/simulation_data/simulation_opera/real_simulation_5opera/opera_input_mix/h2g_0.02/real_simulation_5opera/trait_2\n",
      "/home/hs3393/cb_simulation/simulation_data/simulation_opera/real_simulation_5opera/opera_input_mix/h2g_0.02/real_simulation_5opera/trait_3\n",
      "/home/hs3393/cb_simulation/simulation_data/simulation_opera/real_simulation_5opera/opera_input_mix/h2g_0.02/real_simulation_5opera/trait_4\n",
      "/home/hs3393/cb_simulation/simulation_data/simulation_opera/real_simulation_5opera/opera_input_mix/h2g_0.02/real_simulation_5opera/trait_5\n"
     ]
    }
   ],
   "source": [
    "cat /home/hs3393/cb_simulation/simulation_data/simulation_opera/real_simulation_5opera/opera_input_mix/h2g_0.02/real_simulation_5opera/qtl_list"
   ]
  },
  {
   "cell_type": "markdown",
   "id": "edb6ac10-6af4-4540-848d-387fa26bc6cb",
   "metadata": {
    "kernel": "R"
   },
   "source": [
    "## Step 7: Subset the genome-wide SNP PLINK binary file \n",
    "\n",
    "Only include the variants in our selected non-overlapping regions for stage 1 prior estimation."
   ]
  },
  {
   "cell_type": "code",
   "execution_count": null,
   "id": "66448311-821f-40b5-b267-0cf39f142adc",
   "metadata": {
    "kernel": "R"
   },
   "outputs": [],
   "source": [
    "#!/bin/bash -l\n",
    "# NOTE the -l flag!\n",
    "#\n",
    "#SBATCH -t 36:00:00\n",
    "#SBATCH --mem=60000\n",
    "#SBATCH -J LDextract\n",
    "#SBATCH -o LDextract.%j.out\n",
    "#SBATCH -e LDextract.%j.err\n",
    "\n",
    "source ~/mamba_activate.sh\n",
    "module load Singularity\n",
    "cd /home/hs3393/cb_simulation/simulation_data/simulation_opera/real_simulation_TRAITopera/opera_input_mix/h2g_H2G/real_simulation_TRAITopera\n",
    "\n",
    "plink2 --bfile /mnt/vast/hpc/csg/molecular_phenotype_calling/genotype_arch/ROSMAP_NIA_WGS.leftnorm.filtered --extract remain_snp.tsv --make-bed --out remain_snp_LD\n",
    "\n",
    "base_sh=\"base_sh\"\n",
    "for trait in 2 5 10; do\n",
    "        for h2g in 0.02 0.03 0.04 0.05; do\n",
    "            output_sh=\"trait_${trait}_h2g_${h2g}.sh\"\n",
    "            cat ${base_sh}| sed \"s|TRAIT|${trait}|g\"  | sed \"s|H2G|${h2g}|g\"  > ${output_sh}\n",
    "            sbatch ${output_sh}\n",
    "    done\n",
    "done\n"
   ]
  },
  {
   "cell_type": "markdown",
   "id": "8a4a4e8b-4858-4cc9-bd93-8a0ee01b1693",
   "metadata": {
    "kernel": "R"
   },
   "source": [
    "## Step 8: Save genotype (LD) metadata in remain_snp_LD file"
   ]
  },
  {
   "cell_type": "code",
   "execution_count": 64,
   "id": "359526b4-ff9c-45b9-912f-15235ad990b5",
   "metadata": {
    "kernel": "R",
    "tags": []
   },
   "outputs": [
    {
     "name": "stdout",
     "output_type": "stream",
     "text": [
      "[1] \"/home/hs3393/cb_simulation/simulation_data/simulation_opera/real_simulation_2opera/opera_input_mix/h2g_0.02/real_simulation_2opera//remain_snp_LD\"\n",
      "[1] \"/home/hs3393/cb_simulation/simulation_data/simulation_opera/real_simulation_2opera/opera_input_mix/h2g_0.03/real_simulation_2opera//remain_snp_LD\"\n",
      "[1] \"/home/hs3393/cb_simulation/simulation_data/simulation_opera/real_simulation_2opera/opera_input_mix/h2g_0.04/real_simulation_2opera//remain_snp_LD\"\n",
      "[1] \"/home/hs3393/cb_simulation/simulation_data/simulation_opera/real_simulation_2opera/opera_input_mix/h2g_0.05/real_simulation_2opera//remain_snp_LD\"\n",
      "[1] \"/home/hs3393/cb_simulation/simulation_data/simulation_opera/real_simulation_5opera/opera_input_mix/h2g_0.02/real_simulation_5opera//remain_snp_LD\"\n",
      "[1] \"/home/hs3393/cb_simulation/simulation_data/simulation_opera/real_simulation_5opera/opera_input_mix/h2g_0.03/real_simulation_5opera//remain_snp_LD\"\n",
      "[1] \"/home/hs3393/cb_simulation/simulation_data/simulation_opera/real_simulation_5opera/opera_input_mix/h2g_0.04/real_simulation_5opera//remain_snp_LD\"\n",
      "[1] \"/home/hs3393/cb_simulation/simulation_data/simulation_opera/real_simulation_5opera/opera_input_mix/h2g_0.05/real_simulation_5opera//remain_snp_LD\"\n",
      "[1] \"/home/hs3393/cb_simulation/simulation_data/simulation_opera/real_simulation_10opera/opera_input_mix/h2g_0.02/real_simulation_10opera//remain_snp_LD\"\n",
      "[1] \"/home/hs3393/cb_simulation/simulation_data/simulation_opera/real_simulation_10opera/opera_input_mix/h2g_0.03/real_simulation_10opera//remain_snp_LD\"\n",
      "[1] \"/home/hs3393/cb_simulation/simulation_data/simulation_opera/real_simulation_10opera/opera_input_mix/h2g_0.04/real_simulation_10opera//remain_snp_LD\"\n",
      "[1] \"/home/hs3393/cb_simulation/simulation_data/simulation_opera/real_simulation_10opera/opera_input_mix/h2g_0.05/real_simulation_10opera//remain_snp_LD\"\n"
     ]
    }
   ],
   "source": [
    "# LD\n",
    "# Create a two-line table with strings\n",
    "library(tidyverse)\n",
    "for(ntrait in c(2,5,10)){\n",
    "        for(h2g in c(0.02, 0.03, 0.04, 0.05)){\n",
    "\n",
    "            cnt = 1\n",
    "            output_path = paste0(\"/home/hs3393/cb_simulation/simulation_data/simulation_opera/real_simulation_\", ntrait, \"opera/opera_input_mix/h2g_\", h2g, \"/real_simulation_\", ntrait, \"opera/\")\n",
    "            data <- paste0(output_path, \"/remain_snp_LD\")\n",
    "\n",
    "            # Print the data\n",
    "            print(data)\n",
    "\n",
    "            # Save the data to a CSV file\n",
    "            write_lines(data, paste0(output_path, \"/genotype_data\"))\n",
    "    }\n",
    "}\n"
   ]
  },
  {
   "cell_type": "markdown",
   "id": "d28f64ef-d9cc-4246-8b76-a0899df8d5fe",
   "metadata": {
    "kernel": "R"
   },
   "source": [
    "## Step 9: Run OPERA\n",
    "\n",
    "### Stage 1 OPERA (pi estimation)"
   ]
  },
  {
   "cell_type": "code",
   "execution_count": null,
   "id": "60d43e26-01ca-4a1a-8a3e-b275607c145e",
   "metadata": {
    "kernel": "R"
   },
   "outputs": [],
   "source": [
    "#!/bin/bash -l\n",
    "# NOTE the -l flag!\n",
    "#\n",
    "#SBATCH -t 36:00:00\n",
    "#SBATCH --mem=60000\n",
    "#SBATCH -J opera1\n",
    "#SBATCH -o opera1.%j.out\n",
    "#SBATCH -e opera1.%j.err\n",
    "\n",
    "source /home/hs3393/mamba_activate.sh\n",
    "module load Singularity\n",
    "\n",
    "cd /home/hs3393/cb_simulation/simulation_data/simulation_opera/real_simulation_TRAITopera/opera_input_mix/h2g_H2G/real_simulation_TRAITopera\n",
    "/home/hs3393/opera_Linux/opera_Linux --besd-flist qtl_list --gwas-summary ./trait_1.ma \\\n",
    "--mbfile ./genotype_data --pi-wind 150 \\ # extended since our cis region can be larger than 2Mb\n",
    "--estimate-pi --out pi_estimation"
   ]
  },
  {
   "cell_type": "code",
   "execution_count": null,
   "id": "b82e8401-a52c-4758-ae2e-ff913fe12ea0",
   "metadata": {
    "kernel": "R"
   },
   "outputs": [],
   "source": [
    "base_sh=\"base_sh\"\n",
    "for trait in 2 5 10; do\n",
    "        for h2g in 0.02 0.03 0.04 0.05; do\n",
    "            output_sh=\"trait_${trait}_h2g_${h2g}.sh\"\n",
    "            cat ${base_sh}| sed \"s|TRAIT|${trait}|g\"  | sed \"s|H2G|${h2g}|g\"  > ${output_sh}\n",
    "            sbatch ${output_sh}\n",
    "    done\n",
    "done"
   ]
  },
  {
   "cell_type": "markdown",
   "id": "642f9a66-0c5f-4e88-8d47-f7707320d51d",
   "metadata": {
    "kernel": "R"
   },
   "source": [
    "#### Example output"
   ]
  },
  {
   "cell_type": "code",
   "execution_count": null,
   "id": "9cf82d4d-e470-4aac-ac21-73b9a7f96201",
   "metadata": {
    "kernel": "Bash",
    "tags": []
   },
   "outputs": [
    {
     "name": "stdout",
     "output_type": "stream",
     "text": [
      "Posteriors\tPi1(0:0:0:0)\tPi2(0:0:0:1)\tPi3(0:0:1:0)\tPi4(0:0:1:1)\tPi5(0:1:0:0)\tPi6(0:1:0:1)\tPi7(0:1:1:0)\tPi8(0:1:1:1)\tPi9(1:0:0:0)\tPi10(1:0:0:1)\tPi11(1:0:1:0)\tPi12(1:0:1:1)\tPi13(1:1:0:0)\tPi14(1:1:0:1)\tPi15(1:1:1:0)\tPi16(1:1:1:1)\n",
      "Mean\t0.275201\t0.00228085\t0.00233336\t0.00224573\t0.00231277\t0.00220141\t0.00223646\t0.00227284\t0.00246007\t0.00209981\t0.00291004\t0.00263845\t0.00362954\t0.00242097\t0.00327664\t0.68948\n",
      "SD\t0.0643589\t0.00712061\t0.00685669\t0.00697502\t0.00686388\t0.00684095\t0.00673787\t0.00699348\t0.00695986\t0.00649404\t0.00799288\t0.00752632\t0.00940491\t0.00681977\t0.00880387\t0.0667714\n"
     ]
    }
   ],
   "source": [
    "cat ../simulation_data/simulation_opera/real_simulation_5opera/opera_input_mix/h2g_0.05/real_simulation_5opera/pi_estimation.pi"
   ]
  },
  {
   "cell_type": "markdown",
   "id": "66c1bed7-4241-453f-b589-d1bfcdebade8",
   "metadata": {
    "kernel": "R"
   },
   "source": [
    "###  Stage 2 OPERA"
   ]
  },
  {
   "cell_type": "code",
   "execution_count": null,
   "id": "2e994d75-fece-47a4-8435-ade76f5429f7",
   "metadata": {
    "kernel": "R"
   },
   "outputs": [],
   "source": [
    "#!/bin/bash -l\n",
    "# NOTE the -l flag!\n",
    "#\n",
    "#SBATCH -t 36:00:00\n",
    "#SBATCH --mem=80000\n",
    "#SBATCH -J opera2\n",
    "#SBATCH -o opera2.%j.out\n",
    "#SBATCH -e opera2.%j.err\n",
    "\n",
    "source /home/hs3393/mamba_activate.sh\n",
    "module load Singularity\n",
    "\n",
    "cd /home/hs3393/cb_simulation/simulation_data/simulation_opera/real_simulation_TRAITopera/opera_input_mix/h2g_H2G/real_simulation_TRAITopera\n",
    "\n",
    "/home/hs3393/opera_Linux/opera_Linux --besd-flist qtl_list --gwas-summary ./trait_1.ma \\\n",
    "    --bfile ./remain_snp_LD \\\n",
    "    --prior-pi-file ./pi_estimation.pi \\ \n",
    "    --prior-var-file ./pi_estimation.var \\\n",
    "    --out ./opera_res --outcome-wind 1500 # extended since our cis region can be larger than 2Mb\n",
    "\n"
   ]
  },
  {
   "cell_type": "code",
   "execution_count": null,
   "id": "e242b5cb-d5a8-4b89-a3e6-49ff7d3fb760",
   "metadata": {
    "kernel": "R"
   },
   "outputs": [],
   "source": [
    "base_sh=\"base_sh\"\n",
    "for trait in 2 5 10; do\n",
    "        for h2g in 0.02 0.03 0.04 0.05; do\n",
    "            output_sh=\"trait_${trait}_h2g_${h2g}.sh\"\n",
    "            cat ${base_sh}| sed \"s|TRAIT|${trait}|g\"  | sed \"s|H2G|${h2g}|g\"  > ${output_sh}\n",
    "            sbatch ${output_sh}\n",
    "    done\n",
    "done"
   ]
  },
  {
   "cell_type": "markdown",
   "id": "84175f1a-4280-47be-ac4d-39a7cf294f1a",
   "metadata": {
    "kernel": "R"
   },
   "source": [
    "#### Example output"
   ]
  },
  {
   "cell_type": "code",
   "execution_count": null,
   "id": "48415001-327b-456d-bae9-bbd1dd9c874b",
   "metadata": {
    "kernel": "Bash",
    "tags": []
   },
   "outputs": [
    {
     "name": "stdout",
     "output_type": "stream",
     "text": [
      "Chr\tExpo1_ID\tExpo1_bp\tExpo2_ID\tExpo2_bp\tExpo3_ID\tExpo3_bp\tExpo4_ID\tExpo4_bp\tPPA(1,2,3,4)\tp_HEIDI(1,2,3,4)\n",
      "10\tRegion_241_2\t37025329\tRegion_241_3\t37025329\tRegion_241_4\t37025329\tRegion_241_5\t37025329\t0.999967\t5.250539e-01\n",
      "11\tRegion_107_2\t11927391\tRegion_107_3\t11927391\tRegion_107_4\t11927391\tRegion_107_5\t11927391\t0.999991\t8.772566e-01\n",
      "11\tRegion_108_2\t18057498\tRegion_108_3\t18057498\tRegion_108_4\t18057498\tRegion_108_5\t18057498\t1\t6.443910e-01\n",
      "13\tRegion_43_2\t54814185\tRegion_43_3\t54814185\tRegion_43_4\t54814185\tRegion_43_5\t54814185\t0.999916\t5.845443e-01\n",
      "13\tRegion_449_2\t30572631\tRegion_449_3\t30572631\tRegion_449_4\t30572631\tRegion_449_5\t30572631\t0.999933\t3.243127e-01\n",
      "18\tRegion_41_2\t61335205\tRegion_41_3\t61335205\tRegion_41_4\t61335205\tRegion_41_5\t61335205\t0.999989\t8.673183e-01\n",
      "1\tRegion_124_2\t84179558\tRegion_124_3\t84179558\tRegion_124_4\t84179558\tRegion_124_5\t84179558\t0.999975\t4.870884e-01\n",
      "2\tRegion_73_2\t59140327\tRegion_73_3\t59140327\tRegion_73_4\t59140327\tRegion_73_5\t59140327\t0.999987\t9.353629e-01\n",
      "3\tRegion_246_2\t108165863\tRegion_246_3\t108165863\tRegion_246_4\t108165863\tRegion_246_5\t108165863\t0.999999\t3.673531e-01\n"
     ]
    }
   ],
   "source": [
    "head ../simulation_data/simulation_opera/real_simulation_5opera/opera_input_mix/h2g_0.05/real_simulation_5opera/opera_res_4_expos_assoc.ppa"
   ]
  }
 ],
 "metadata": {
  "kernelspec": {
   "display_name": "SoS",
   "language": "sos",
   "name": "sos"
  },
  "language_info": {
   "codemirror_mode": "sos",
   "file_extension": ".sos",
   "mimetype": "text/x-sos",
   "name": "sos",
   "nbconvert_exporter": "sos_notebook.converter.SoS_Exporter",
   "pygments_lexer": "sos"
  },
  "sos": {
   "kernels": [
    [
     "Bash",
     "calysto_bash",
     "Bash",
     "#E6EEFF",
     "shell"
    ],
    [
     "R",
     "ir",
     "R",
     "",
     "r"
    ]
   ],
   "version": "0.24.3"
  }
 },
 "nbformat": 4,
 "nbformat_minor": 5
}
